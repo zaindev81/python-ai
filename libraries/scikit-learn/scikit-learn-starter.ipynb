{
 "cells": [
  {
   "cell_type": "markdown",
   "id": "f88d33c0",
   "metadata": {},
   "source": [
    "# Scikit-learn Starter Notebook\n",
    "A hands-on notebook to practice the basics of scikit-learn.\n",
    "\n",
    "**What you'll learn:**\n",
    "1) Loading datasets  \n",
    "2) Train/validation split  \n",
    "3) Training a simple model  \n",
    "4) Evaluating with accuracy & confusion matrix  \n",
    "5) Using preprocessing (scaling)  \n",
    "6) Building a Pipeline  \n",
    "7) Cross-validation  \n",
    "\n",
    "---\n",
    "Run each cell from top to bottom (Shift+Enter in Jupyter)."
   ]
  },
  {
   "cell_type": "markdown",
   "id": "dda0988a",
   "metadata": {},
   "source": [
    "## 0. Setup\n",
    "Install packages if needed (you can skip if they're already installed)."
   ]
  },
  {
   "cell_type": "code",
   "execution_count": null,
   "id": "0de364d1",
   "metadata": {},
   "outputs": [],
   "source": [
    "# If needed, uncomment:\n",
    "# !pip install -q scikit-learn pandas matplotlib\n"
   ]
  },
  {
   "cell_type": "markdown",
   "id": "cd12916a",
   "metadata": {},
   "source": [
    "## 1. Imports"
   ]
  },
  {
   "cell_type": "code",
   "execution_count": null,
   "id": "4a09fe25",
   "metadata": {},
   "outputs": [],
   "source": [
    "import numpy as np\n",
    "import pandas as pd\n",
    "from sklearn import datasets\n",
    "from sklearn.model_selection import train_test_split, cross_val_score\n",
    "from sklearn.preprocessing import StandardScaler\n",
    "from sklearn.linear_model import LogisticRegression\n",
    "from sklearn.tree import DecisionTreeClassifier\n",
    "from sklearn.metrics import accuracy_score, confusion_matrix, classification_report\n",
    "from sklearn.pipeline import Pipeline\n",
    "import matplotlib.pyplot as plt\n",
    "\n",
    "print(\"Versions -> numpy:\", np.__version__, \", pandas:\", pd.__version__)"
   ]
  },
  {
   "cell_type": "markdown",
   "id": "8a462b21",
   "metadata": {},
   "source": [
    "## 2. Load a sample dataset (Iris)\n",
    "Scikit-learn ships with small, clean datasets like *Iris*. We'll use it for quick experiments."
   ]
  },
  {
   "cell_type": "code",
   "execution_count": null,
   "id": "e591c1b5",
   "metadata": {},
   "outputs": [],
   "source": [
    "iris = datasets.load_iris(as_frame=True)\n",
    "X = iris.data\n",
    "y = iris.target\n",
    "\n",
    "print(\"X shape:\", X.shape)\n",
    "print(\"y shape:\", y.shape)\n",
    "X.head()"
   ]
  },
  {
   "cell_type": "markdown",
   "id": "ec3527e4",
   "metadata": {},
   "source": [
    "## 3. Train/Test Split\n",
    "Split the data into training and test sets (80/20)."
   ]
  },
  {
   "cell_type": "code",
   "execution_count": null,
   "id": "fa61f640",
   "metadata": {},
   "outputs": [],
   "source": [
    "X_train, X_test, y_train, y_test = train_test_split(\n",
    "    X, y, test_size=0.2, random_state=42, stratify=y\n",
    ")\n",
    "X_train.shape, X_test.shape"
   ]
  },
  {
   "cell_type": "markdown",
   "id": "3c326a81",
   "metadata": {},
   "source": [
    "## 4. Train a simple model (Logistic Regression)"
   ]
  },
  {
   "cell_type": "code",
   "execution_count": null,
   "id": "85ca6bc1",
   "metadata": {},
   "outputs": [],
   "source": [
    "log_clf = LogisticRegression(max_iter=1000)\n",
    "log_clf.fit(X_train, y_train)\n",
    "\n",
    "y_pred = log_clf.predict(X_test)\n",
    "acc = accuracy_score(y_test, y_pred)\n",
    "print(\"Accuracy:\", acc)"
   ]
  },
  {
   "cell_type": "markdown",
   "id": "cd342ea7",
   "metadata": {},
   "source": [
    "### Confusion Matrix & Classification Report"
   ]
  },
  {
   "cell_type": "code",
   "execution_count": null,
   "id": "712e0cde",
   "metadata": {},
   "outputs": [],
   "source": [
    "cm = confusion_matrix(y_test, y_pred)\n",
    "print(cm)\n",
    "print(\"\\nClassification Report:\\n\", classification_report(y_test, y_pred, target_names=iris.target_names))\n",
    "\n",
    "# Plot confusion matrix (simple matplotlib, single figure, default colors)\n",
    "fig, ax = plt.subplots()\n",
    "ax.imshow(cm)\n",
    "ax.set_title(\"Confusion Matrix\")\n",
    "ax.set_xlabel(\"Predicted\")\n",
    "ax.set_ylabel(\"True\")\n",
    "ax.set_xticks(range(len(iris.target_names)))\n",
    "ax.set_yticks(range(len(iris.target_names)))\n",
    "ax.set_xticklabels(iris.target_names, rotation=45, ha='right')\n",
    "ax.set_yticklabels(iris.target_names)\n",
    "for i in range(cm.shape[0]):\n",
    "    for j in range(cm.shape[1]):\n",
    "        ax.text(j, i, cm[i, j], ha='center', va='center')\n",
    "plt.tight_layout()\n",
    "plt.show()"
   ]
  },
  {
   "cell_type": "markdown",
   "id": "a2185c3c",
   "metadata": {},
   "source": [
    "## 5. Add preprocessing (Standardization)\n",
    "Some models work better when features are scaled. We'll use a **Pipeline** to combine scaling and the model."
   ]
  },
  {
   "cell_type": "code",
   "execution_count": null,
   "id": "e148938b",
   "metadata": {},
   "outputs": [],
   "source": [
    "pipe = Pipeline([\n",
    "    (\"scale\", StandardScaler()),\n",
    "    (\"clf\", LogisticRegression(max_iter=1000))\n",
    "])\n",
    "pipe.fit(X_train, y_train)\n",
    "print(\"Pipeline test accuracy:\", pipe.score(X_test, y_test))"
   ]
  },
  {
   "cell_type": "markdown",
   "id": "b7e4638d",
   "metadata": {},
   "source": [
    "## 6. Try a different model (Decision Tree)"
   ]
  },
  {
   "cell_type": "code",
   "execution_count": null,
   "id": "a3dac878",
   "metadata": {},
   "outputs": [],
   "source": [
    "tree = DecisionTreeClassifier(random_state=42)\n",
    "tree.fit(X_train, y_train)\n",
    "print(\"DecisionTree test accuracy:\", tree.score(X_test, y_test))"
   ]
  },
  {
   "cell_type": "markdown",
   "id": "f7eabeb5",
   "metadata": {},
   "source": [
    "## 7. Cross-Validation\n",
    "Use **cross_val_score** on the full dataset to estimate generalization performance."
   ]
  },
  {
   "cell_type": "code",
   "execution_count": null,
   "id": "78ba05e3",
   "metadata": {},
   "outputs": [],
   "source": [
    "scores = cross_val_score(pipe, X, y, cv=5)\n",
    "print(\"CV scores:\", scores)\n",
    "print(\"Mean CV:\", scores.mean())"
   ]
  },
  {
   "cell_type": "markdown",
   "id": "bb646fb5",
   "metadata": {},
   "source": [
    "## 8. Mini-Exercises (try these!)\n",
    "1. Change the classifier in the pipeline to `DecisionTreeClassifier` and compare CV scores.\n",
    "2. Adjust tree depth: `DecisionTreeClassifier(max_depth=2)` – how does accuracy change?\n",
    "3. Replace Iris with `datasets.load_wine(as_frame=True)` – what changes?\n",
    "4. Add `StandardScaler()` to a tree pipeline (even if trees don't need scaling) – does it affect results?\n",
    "5. Try `KNeighborsClassifier` (remember to scale!)."
   ]
  }
 ],
 "metadata": {},
 "nbformat": 4,
 "nbformat_minor": 5
}
